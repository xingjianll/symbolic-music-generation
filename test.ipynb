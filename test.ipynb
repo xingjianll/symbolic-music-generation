{
 "cells": [
  {
   "metadata": {
    "ExecuteTime": {
     "end_time": "2025-07-09T16:24:38.806625Z",
     "start_time": "2025-07-09T16:24:07.036249Z"
    }
   },
   "cell_type": "code",
   "source": [
    "import io\n",
    "from pathlib import Path\n",
    "from miditok import REMI, TokenizerConfig\n",
    "\n",
    "import utils\n",
    "from model import MidiGPT2\n",
    "import torch\n",
    "import mido\n",
    "import rtmidi\n",
    "\n",
    "midiout = rtmidi.MidiOut()\n",
    "available_ports = midiout.get_ports()\n",
    "print(available_ports)\n",
    "checkpoint_path = \"/checkpoints/legacy/pertok-1/pertok-pretrain-final.ckpt\"\n",
    "\n",
    "\n",
    "tokenizer = utils.get_tokenizer()\n",
    "\n",
    "model = MidiGPT2.load_from_checkpoint(checkpoint_path, tokenizer=tokenizer)\n",
    "model.eval()\n",
    "model.freeze()\n",
    "\n",
    "port = mido.open_output('GarageBand Virtual In')\n",
    "with torch.no_grad():\n",
    "    # input_ids = torch.tensor([x.ids for x in tokenizer.encode(\"./data/test/test3.mid\")], dtype=torch.long).to(model.device)\n",
    "    input_ids = torch.tensor([[tokenizer[\"BOS_None\"]]], dtype=torch.long).to(model.device)\n",
    "\n",
    "    generated = model.model.generate(\n",
    "        input_ids=input_ids,\n",
    "        max_new_tokens=512,\n",
    "        do_sample=True,\n",
    "        temperature=1,\n",
    "        top_k=50,\n",
    "        top_p=0.95,\n",
    "        pad_token_id=tokenizer.pad_token_id,\n",
    "        eos_token_id=tokenizer[\"EOS_None\"],\n",
    "    )\n",
    "    generated_ids = generated.tolist()\n",
    "    print(len(input_ids[0]))\n",
    "    midi_bytes = tokenizer.decode(generated_ids).dumps_midi()\n",
    "    midi_file = io.BytesIO(midi_bytes)\n",
    "    midi = mido.MidiFile(file=midi_file)\n",
    "    for msg in midi.play():\n",
    "        port.send(msg)\n",
    "\n",
    "\n",
    "\n",
    "\n"
   ],
   "id": "656cfdf9ce38fb24",
   "outputs": [
    {
     "name": "stdout",
     "output_type": "stream",
     "text": [
      "['Roland Digital Piano', 'IAC Driver Bus 1', 'GarageBand Virtual In', 'Logic Pro Virtual In']\n",
      "1\n"
     ]
    }
   ],
   "execution_count": 99
  },
  {
   "metadata": {},
   "cell_type": "code",
   "outputs": [],
   "execution_count": null,
   "source": "",
   "id": "31ab2e0baedd94f2"
  }
 ],
 "metadata": {
  "kernelspec": {
   "display_name": "Python 3",
   "language": "python",
   "name": "python3"
  },
  "language_info": {
   "codemirror_mode": {
    "name": "ipython",
    "version": 2
   },
   "file_extension": ".py",
   "mimetype": "text/x-python",
   "name": "python",
   "nbconvert_exporter": "python",
   "pygments_lexer": "ipython2",
   "version": "2.7.6"
  }
 },
 "nbformat": 4,
 "nbformat_minor": 5
}
