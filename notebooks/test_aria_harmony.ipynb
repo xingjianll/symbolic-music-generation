{
 "cells": [
  {
   "metadata": {
    "jupyter": {
     "is_executing": true
    },
    "ExecuteTime": {
     "start_time": "2025-09-25T16:21:16.977399Z"
    }
   },
   "cell_type": "code",
   "source": [
    "from ariautils.midi import MidiDict\n",
    "import torch\n",
    "from transformers import AutoTokenizer\n",
    "from src.model.model import MidiAria\n",
    "\n",
    "tokenizer = AutoTokenizer.from_pretrained(\n",
    "    \"loubb/aria-medium-base\",\n",
    "    trust_remote_code=True,\n",
    "    add_eos_token=True,\n",
    "    add_dim_token=False\n",
    ")\n",
    "checkpoint_path = \"../checkpoints/aria/aria-harmony-epoch=03-val_loss=4.4451.ckpt\"\n",
    "model = MidiAria(tokenizer, None)\n",
    "model.to_lora()\n",
    "state_dict = torch.load(checkpoint_path, map_location=torch.device('cpu'))['state_dict']\n",
    "model.load_state_dict(state_dict)\n",
    "\n",
    "\n",
    "device = \"mps\" if torch.backends.mps.is_available() else \"cpu\"\n",
    "torch.Tensor.cuda = lambda self, *args, **kwargs: self.to(device)\n",
    "\n",
    "\n",
    "PROMPT_MIDI_LOAD_PATH = \"../data/test/test_melody.mid\"\n",
    "CONTINUATION_MIDI_SAVE_PATH = \"../data/test/continuation.midi\"\n",
    "midi_dict = MidiDict.from_midi(PROMPT_MIDI_LOAD_PATH)\n",
    "tokens = tokenizer.tokenize(midi_dict, add_eos_token=True, add_dim_token=True)\n",
    "token_ids = tokenizer._tokenizer.encode(tokens)\n",
    "prompt_input_ids = torch.tensor([token_ids], device='cpu')\n",
    "\n",
    "continuation = model.model.generate(\n",
    "    prompt_input_ids.to('cpu'),\n",
    "    max_length=2048,\n",
    "    do_sample=True,\n",
    "    temperature=0.97,\n",
    "    top_p=0.95,\n",
    "    use_cache=True,\n",
    ")\n",
    "\n",
    "\n",
    "prompt_len = prompt_input_ids.shape[1]\n",
    "generated_tokens = continuation[0][prompt_len:]  # only the new part\n",
    "\n",
    "# decode just the continuation\n",
    "midi_dict = tokenizer.decode(generated_tokens.tolist())\n",
    "print(tokenizer._tokenizer.decode(generated_tokens.tolist()))\n",
    "midi_dict.to_midi().save(CONTINUATION_MIDI_SAVE_PATH)\n",
    "\n",
    "print(f\"Saved continuation to {CONTINUATION_MIDI_SAVE_PATH}\")\n"
   ],
   "id": "14e9e64658a8f909",
   "outputs": [],
   "execution_count": null
  }
 ],
 "metadata": {},
 "nbformat": 4,
 "nbformat_minor": 5
}
