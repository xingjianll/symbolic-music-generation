{
 "cells": [
  {
   "cell_type": "code",
   "id": "initial_id",
   "metadata": {
    "collapsed": true,
    "ExecuteTime": {
     "end_time": "2025-07-18T04:35:50.194025Z",
     "start_time": "2025-07-18T04:35:50.033078Z"
    }
   },
   "source": [
    "import symusic\n",
    "from symusic.core import TrackTickList, NoteTickList, NoteTick\n",
    "from symusic.types import Track\n",
    "\n",
    "import os\n",
    "from pathlib import Path\n",
    "from dotenv import load_dotenv\n",
    "\n",
    "load_dotenv()\n",
    "\n",
    "\n",
    "def extract_melody(t: Track) -> Track:\n",
    "    melody = []\n",
    "    z: NoteTick\n",
    "    # notes: NoteTickList = t.notes.filter(lambda note: note.duration >= 240, inplace=True)\n",
    "    notes: NoteTickList = t.notes\n",
    "    notes.sort(key=lambda x: x.start, inplace=True)\n",
    "    z: NoteTick\n",
    "    concurrent = []\n",
    "    curr = None\n",
    "    while notes:\n",
    "        note = notes.pop(0)\n",
    "        concurrent.append(note)\n",
    "        if notes:\n",
    "            note2 = notes[0]\n",
    "            if note2.start > note.start:\n",
    "                # pop highest pitch\n",
    "                max = concurrent.pop()\n",
    "                while concurrent:\n",
    "                    a = concurrent.pop()\n",
    "                    if a.pitch > max.pitch:\n",
    "                        max = a\n",
    "                if curr is None or max.pitch > curr.pitch or max.start >= curr.end - 100:\n",
    "                    melody.append(max)\n",
    "                    curr = max\n",
    "\n",
    "    new_track = symusic.Track()\n",
    "    for note in melody:\n",
    "        new_track.notes.append(note)\n",
    "    return new_track\n",
    "\n",
    "project_dir = Path(\"/Users/xingjianliu/repos/symbolic-music-generation\")\n",
    "data_dir = project_dir / \"data\"\n",
    "single_track_dir = data_dir / 'single_track'\n",
    "counter = 0\n",
    "for file in os.listdir(single_track_dir):\n",
    "    score = Score(single_track_dir / file)\n",
    "    a: Track = score.tracks[0]\n",
    "    score.tracks[0] = extract_melody(a)\n",
    "    score.dump_midi(\"./out.mid\")\n",
    "    if counter == 2:\n",
    "        break\n",
    "\n",
    "\n",
    "\n"
   ],
   "outputs": [],
   "execution_count": 48
  },
  {
   "metadata": {},
   "cell_type": "code",
   "outputs": [],
   "execution_count": null,
   "source": "",
   "id": "c3699ad953fb014a"
  }
 ],
 "metadata": {
  "kernelspec": {
   "display_name": "Python 3",
   "language": "python",
   "name": "python3"
  },
  "language_info": {
   "codemirror_mode": {
    "name": "ipython",
    "version": 2
   },
   "file_extension": ".py",
   "mimetype": "text/x-python",
   "name": "python",
   "nbconvert_exporter": "python",
   "pygments_lexer": "ipython2",
   "version": "2.7.6"
  }
 },
 "nbformat": 4,
 "nbformat_minor": 5
}
