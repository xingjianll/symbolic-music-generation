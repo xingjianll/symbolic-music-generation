{
 "cells": [
  {
   "cell_type": "code",
   "id": "initial_id",
   "metadata": {
    "collapsed": true,
    "jupyter": {
     "is_executing": true
    },
    "ExecuteTime": {
     "start_time": "2025-09-18T15:16:02.096468Z"
    }
   },
   "source": [
    "from ariautils.midi import MidiDict\n",
    "from transformers import AutoModelForCausalLM\n",
    "from transformers import AutoTokenizer\n",
    "import torch\n",
    "\n",
    "\n",
    "device = \"mps\" if torch.backends.mps.is_available() else \"cpu\"\n",
    "torch.Tensor.cuda = lambda self, *args, **kwargs: self.to(device)\n",
    "\n",
    "\n",
    "PROMPT_MIDI_LOAD_PATH = \"../data/test/noc.mid\"\n",
    "CONTINUATION_MIDI_SAVE_PATH = \"../data/test/continuation.midi\"\n",
    "\n",
    "model = AutoModelForCausalLM.from_pretrained(\n",
    "    \"loubb/aria-medium-base\",\n",
    "    trust_remote_code=True,\n",
    ").to(device)\n",
    "\n",
    "tokenizer = AutoTokenizer.from_pretrained(\n",
    "    \"loubb/aria-medium-base\",\n",
    "    trust_remote_code=True,\n",
    "    add_eos_token=True,\n",
    "    add_dim_token=False\n",
    ")\n",
    "\n",
    "midi_dict = MidiDict.from_midi(PROMPT_MIDI_LOAD_PATH)\n",
    "tokens = tokenizer.tokenize(midi_dict, add_eos_token=False, add_dim_token=False)\n",
    "token_ids = tokenizer._tokenizer.encode(tokens)\n",
    "prompt_input_ids = torch.tensor([token_ids], device=device)\n",
    "\n",
    "continuation = model.generate(\n",
    "    prompt_input_ids.to(device),\n",
    "    max_length=1024,\n",
    "    do_sample=True,\n",
    "    temperature=0.97,\n",
    "    top_p=0.95,\n",
    "    use_cache=True,\n",
    ")\n",
    "\n",
    "# decode back into MIDI\n",
    "midi_dict = tokenizer.decode(continuation[0].tolist())\n",
    "print(tokenizer._tokenizer.decode(continuation[0].tolist()))\n",
    "midi_dict.to_midi().save(CONTINUATION_MIDI_SAVE_PATH)\n",
    "\n",
    "print(f\"Saved continuation to {CONTINUATION_MIDI_SAVE_PATH}\")\n"
   ],
   "outputs": [],
   "execution_count": null
  },
  {
   "metadata": {},
   "cell_type": "code",
   "source": "",
   "id": "1051ce8d5394397c",
   "outputs": [],
   "execution_count": null
  },
  {
   "metadata": {},
   "cell_type": "code",
   "source": "",
   "id": "3791584964b6b0e8",
   "outputs": [],
   "execution_count": null
  },
  {
   "metadata": {},
   "cell_type": "code",
   "source": "",
   "id": "58ae490feca13a3b",
   "outputs": [],
   "execution_count": null
  }
 ],
 "metadata": {
  "kernelspec": {
   "display_name": "Python 3",
   "language": "python",
   "name": "python3"
  },
  "language_info": {
   "codemirror_mode": {
    "name": "ipython",
    "version": 2
   },
   "file_extension": ".py",
   "mimetype": "text/x-python",
   "name": "python",
   "nbconvert_exporter": "python",
   "pygments_lexer": "ipython2",
   "version": "2.7.6"
  }
 },
 "nbformat": 4,
 "nbformat_minor": 5
}
