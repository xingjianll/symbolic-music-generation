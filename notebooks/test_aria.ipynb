{
 "cells": [
  {
   "cell_type": "code",
   "id": "initial_id",
   "metadata": {
    "collapsed": true,
    "ExecuteTime": {
     "end_time": "2025-09-16T16:52:19.612412Z",
     "start_time": "2025-09-16T16:51:13.440263Z"
    }
   },
   "source": [
    "from transformers import AutoModelForCausalLM\n",
    "from transformers import AutoTokenizer\n",
    "import torch\n",
    "\n",
    "PROMPT_MIDI_LOAD_PATH = \"../data/test/nocturne.mid\"\n",
    "CONTINUATION_MIDI_SAVE_PATH = \"../data/test/continuation.midi\"\n",
    "\n",
    "model = AutoModelForCausalLM.from_pretrained(\n",
    "    \"loubb/aria-medium-base\",\n",
    "    trust_remote_code=True,\n",
    ")\n",
    "tokenizer = AutoTokenizer.from_pretrained(\n",
    "    \"loubb/aria-medium-base\",\n",
    "    trust_remote_code=True,\n",
    ")\n",
    "\n",
    "prompt = tokenizer.encode_from_file(\n",
    "    PROMPT_MIDI_LOAD_PATH, return_tensors=\"pt\"\n",
    ")\n",
    "\n",
    "continuation = model.generate(\n",
    "    prompt.input_ids[..., :512],\n",
    "    max_length=1024,\n",
    "    do_sample=True,\n",
    "    temperature=0.97,\n",
    "    top_p=0.95,\n",
    "    use_cache=True,\n",
    ")\n",
    "\n",
    "midi_dict = tokenizer.decode(continuation[0].tolist())\n",
    "midi_dict.to_midi().save(CONTINUATION_MIDI_SAVE_PATH)\n"
   ],
   "outputs": [],
   "execution_count": 3
  }
 ],
 "metadata": {
  "kernelspec": {
   "display_name": "Python 3",
   "language": "python",
   "name": "python3"
  },
  "language_info": {
   "codemirror_mode": {
    "name": "ipython",
    "version": 2
   },
   "file_extension": ".py",
   "mimetype": "text/x-python",
   "name": "python",
   "nbconvert_exporter": "python",
   "pygments_lexer": "ipython2",
   "version": "2.7.6"
  }
 },
 "nbformat": 4,
 "nbformat_minor": 5
}
